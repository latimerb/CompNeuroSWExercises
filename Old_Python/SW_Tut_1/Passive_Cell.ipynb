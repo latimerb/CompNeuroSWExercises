{
 "cells": [
  {
   "cell_type": "markdown",
   "metadata": {
    "hideCode": true,
    "hidePrompt": true
   },
   "source": [
    "# Passive Cell Tutorial"
   ]
  },
  {
   "cell_type": "code",
   "execution_count": 2,
   "metadata": {},
   "outputs": [
    {
     "data": {
      "text/plain": [
       "1.0"
      ]
     },
     "execution_count": 2,
     "metadata": {},
     "output_type": "execute_result"
    }
   ],
   "source": [
    "%matplotlib qt5\n",
    "from neuron import h\n",
    "from matplotlib import pyplot\n",
    "%matplotlib inline\n",
    "h.load_file('stdrun.hoc')"
   ]
  },
  {
   "cell_type": "markdown",
   "metadata": {},
   "source": [
    "### 1) Create the cell and define its geometry \n",
    "\n",
    "#### NEURON defines it as a cylinder so we only need to give length and diameter\n",
    "\n"
   ]
  },
  {
   "cell_type": "code",
   "execution_count": 3,
   "metadata": {},
   "outputs": [],
   "source": [
    "#Create the soma section and define the default parameters\n",
    "soma = h.Section(name='soma')\n",
    "soma.diam = 200 #default is micrometers\n",
    "soma.L = 100 #um"
   ]
  },
  {
   "cell_type": "markdown",
   "metadata": {},
   "source": [
    "### 2) Define the cell's biophysics"
   ]
  },
  {
   "cell_type": "code",
   "execution_count": 4,
   "metadata": {},
   "outputs": [],
   "source": [
    "soma.cm = 1.4884e-4/6.2832e-4 #uF\n",
    "\n",
    "#Insert the Hodgkin-Huxley channels and define the conductances\n",
    "soma.insert('hh')\n",
    "soma.gnabar_hh = 0.0\n",
    "soma.gkbar_hh = 0.0\n",
    "soma.gl_hh = 2.0e-5\n",
    "soma.el_hh = -70\n",
    "\n",
    "v_init = h.v_init= -60"
   ]
  },
  {
   "cell_type": "markdown",
   "metadata": {},
   "source": [
    "### 3) Inject current"
   ]
  },
  {
   "cell_type": "code",
   "execution_count": 5,
   "metadata": {},
   "outputs": [],
   "source": [
    "#Inject current in the middle of the soma\n",
    "stim = h.IClamp(soma(0.5))\n",
    "stim.delay = 100.0 #ms\n",
    "stim.dur = 500.0 #ms\n",
    "stim.amp = 1.0 #nA"
   ]
  },
  {
   "cell_type": "markdown",
   "metadata": {},
   "source": [
    "### 4) Setup the simulation and look at the results!"
   ]
  },
  {
   "cell_type": "code",
   "execution_count": 6,
   "metadata": {},
   "outputs": [
    {
     "data": {
      "image/png": "[encoded data removed]",
      "text/plain": [
       "<matplotlib.figure.Figure at 0xb709320>"
      ]
     },
     "metadata": {},
     "output_type": "display_data"
    }
   ],
   "source": [
    "# We use this package for visualization\n",
    "import matplotlib.pyplot as plt\n",
    "\n",
    "tstop = h.tstop = 800   #ms\n",
    "h.dt = 0.025\n",
    "\n",
    "v0_vec = h.Vector()\n",
    "t_vec = h.Vector()\n",
    "\n",
    "v0_vec.record(soma(0.5)._ref_v)\n",
    "t_vec.record(h._ref_t)\n",
    "\n",
    "h.run()\n",
    "\n",
    "plt.figure()\n",
    "plt.plot(t_vec, v0_vec,'b')\n",
    "plt.xlim(0, tstop)\n",
    "plt.xlabel('time (ms)')\n",
    "plt.ylabel('mV')\n",
    "\n",
    "plt.show()"
   ]
  },
  {
   "cell_type": "code",
   "execution_count": null,
   "metadata": {},
   "outputs": [],
   "source": []
  }
 ],
 "metadata": {
  "celltoolbar": "Initialization Cell",
  "hide_code_all_hidden": true,
  "kernelspec": {
   "display_name": "Python 2",
   "language": "python",
   "name": "python2"
  },
  "language_info": {
   "codemirror_mode": {
    "name": "ipython",
    "version": 2
   },
   "file_extension": ".py",
   "mimetype": "text/x-python",
   "name": "python",
   "nbconvert_exporter": "python",
   "pygments_lexer": "ipython2",
   "version": "2.7.14"
  }
 },
 "nbformat": 4,
 "nbformat_minor": 2
}
